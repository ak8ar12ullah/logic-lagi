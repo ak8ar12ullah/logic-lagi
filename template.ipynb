{
 "cells": [
  {
   "cell_type": "markdown",
   "metadata": {},
   "source": [
    "# LOGIC\n",
    "\n",
    "## NAMA :  FARIDL MUKHLASHIN AKBARULLAH"
   ]
  },
  {
   "cell_type": "markdown",
   "metadata": {},
   "source": [
    "<h1 style=\"color:red\">**LOGIC 1**</h1>"
   ]
  },
  {
   "cell_type": "markdown",
   "metadata": {},
   "source": [
    "### LOGIC 1 SOAL 1"
   ]
  },
  {
   "cell_type": "code",
   "execution_count": 2,
   "metadata": {},
   "outputs": [
    {
     "name": "stdout",
     "output_type": "stream",
     "text": [
      "*        \n",
      " *       \n",
      "  *      \n",
      "   *     \n",
      "    *    \n",
      "     *   \n",
      "      *  \n",
      "       * \n",
      "        *\n"
     ]
    }
   ],
   "source": [
    "for y in range(1,10):\n",
    "    for x in range(1,10):\n",
    "        if x== y :\n",
    "            print(\"*\",end=\"\")\n",
    "        else:\n",
    "            print(\" \",end=\"\")\n",
    "    print()"
   ]
  },
  {
   "cell_type": "markdown",
   "metadata": {},
   "source": [
    "### LOGIC 1 SOAL 2"
   ]
  },
  {
   "cell_type": "code",
   "execution_count": 3,
   "metadata": {},
   "outputs": [
    {
     "name": "stdout",
     "output_type": "stream",
     "text": [
      "        *\n",
      "       * \n",
      "      *  \n",
      "     *   \n",
      "    *    \n",
      "   *     \n",
      "  *      \n",
      " *       \n",
      "*        \n"
     ]
    }
   ],
   "source": [
    "for y in range(1,10):\n",
    "    for x in range(1,10):\n",
    "        if x==10-y:\n",
    "            print(\"*\",end=\"\")\n",
    "        else:\n",
    "            print(\" \",end=\"\")\n",
    "    print()"
   ]
  },
  {
   "cell_type": "markdown",
   "metadata": {},
   "source": [
    "### SOAL 3"
   ]
  },
  {
   "cell_type": "code",
   "execution_count": 4,
   "metadata": {},
   "outputs": [
    {
     "name": "stdout",
     "output_type": "stream",
     "text": [
      "*       *\n",
      " *     * \n",
      "  *   *  \n",
      "   * *   \n",
      "    *    \n",
      "   * *   \n",
      "  *   *  \n",
      " *     * \n",
      "*       *\n"
     ]
    }
   ],
   "source": [
    "for y in range(1,10):\n",
    "    for x in range(1,10):\n",
    "        if x==y or x==10-y:\n",
    "            print(\"*\",end=\"\")\n",
    "        else:\n",
    "            print(\" \",end=\"\")\n",
    "    print()"
   ]
  },
  {
   "cell_type": "markdown",
   "metadata": {},
   "source": [
    "### SOAL 4"
   ]
  },
  {
   "cell_type": "code",
   "execution_count": 5,
   "metadata": {},
   "outputs": [
    {
     "name": "stdout",
     "output_type": "stream",
     "text": [
      "*   *   *\n",
      " *  *  * \n",
      "  * * *  \n",
      "   ***   \n",
      "*********\n",
      "   ***   \n",
      "  * * *  \n",
      " *  *  * \n",
      "*   *   *\n"
     ]
    }
   ],
   "source": [
    "for y in range(1,10):\n",
    "    for x in range(1,10):\n",
    "        if x==y or x==10-y or x==5 or y==5:\n",
    "            print(\"*\",end=\"\")\n",
    "        else:\n",
    "            print(\" \",end=\"\")\n",
    "    print()"
   ]
  },
  {
   "cell_type": "markdown",
   "metadata": {},
   "source": [
    "### SOAL 5"
   ]
  },
  {
   "cell_type": "code",
   "execution_count": 6,
   "metadata": {},
   "outputs": [
    {
     "name": "stdout",
     "output_type": "stream",
     "text": [
      "*        \n",
      "**       \n",
      "***      \n",
      "****     \n",
      "*****    \n",
      "******   \n",
      "*******  \n",
      "******** \n",
      "*********\n"
     ]
    }
   ],
   "source": [
    "for y in range(1,10):\n",
    "    for x in range(1,10):\n",
    "        if x <= y :\n",
    "            print(\"*\",end=\"\")\n",
    "        else:\n",
    "            print(\" \",end=\"\")\n",
    "    print()"
   ]
  },
  {
   "cell_type": "markdown",
   "metadata": {},
   "source": [
    "### SOAL 6"
   ]
  },
  {
   "cell_type": "code",
   "execution_count": 7,
   "metadata": {},
   "outputs": [
    {
     "name": "stdout",
     "output_type": "stream",
     "text": [
      "        *\n",
      "       **\n",
      "      ***\n",
      "     ****\n",
      "    *****\n",
      "   ******\n",
      "  *******\n",
      " ********\n",
      "*********\n"
     ]
    }
   ],
   "source": [
    "for y in range(1,10):\n",
    "    for x in range(1,10):\n",
    "        if x >= 10-y:\n",
    "            print(\"*\",end=\"\")\n",
    "        else:\n",
    "            print(\" \",end=\"\")\n",
    "    print()"
   ]
  },
  {
   "cell_type": "markdown",
   "metadata": {},
   "source": [
    "### SOAL 7"
   ]
  },
  {
   "cell_type": "code",
   "execution_count": 8,
   "metadata": {},
   "outputs": [
    {
     "name": "stdout",
     "output_type": "stream",
     "text": [
      "*********\n",
      " ******* \n",
      "  *****  \n",
      "   ***   \n",
      "    *    \n",
      "   ***   \n",
      "  *****  \n",
      " ******* \n",
      "*********\n"
     ]
    }
   ],
   "source": [
    "for y in range(1,10):\n",
    "    for x in range(1,10):\n",
    "        if x<=y and x>=10-y or x>=y and x<=10-y:\n",
    "            print(\"*\",end=\"\")\n",
    "        else:\n",
    "            print(\" \",end=\"\")\n",
    "    print()"
   ]
  },
  {
   "cell_type": "markdown",
   "metadata": {},
   "source": [
    "### SOAL 8"
   ]
  },
  {
   "cell_type": "code",
   "execution_count": 9,
   "metadata": {},
   "outputs": [
    {
     "name": "stdout",
     "output_type": "stream",
     "text": [
      "*       *\n",
      "**     **\n",
      "***   ***\n",
      "**** ****\n",
      "*********\n",
      "**** ****\n",
      "***   ***\n",
      "**     **\n",
      "*       *\n"
     ]
    }
   ],
   "source": [
    "for y in range(1,10):\n",
    "    for x in range(1,10):\n",
    "        if x >=y and x>=10-y or x<=y and x<=10-y:\n",
    "            print(\"*\",end=\"\")\n",
    "        else:\n",
    "            print(\" \",end=\"\")\n",
    "    print()"
   ]
  },
  {
   "cell_type": "markdown",
   "metadata": {},
   "source": [
    "<h1 style=\"color:red\">**LOGIC 2**</h1>"
   ]
  },
  {
   "cell_type": "markdown",
   "metadata": {},
   "source": [
    "### SOAL 1"
   ]
  },
  {
   "cell_type": "code",
   "execution_count": 10,
   "metadata": {},
   "outputs": [
    {
     "name": "stdout",
     "output_type": "stream",
     "text": [
      "1        \n",
      " 3       \n",
      "  5      \n",
      "   7     \n",
      "    9    \n",
      "     11   \n",
      "      13  \n",
      "       15 \n",
      "        17\n"
     ]
    }
   ],
   "source": [
    "for y in range(1,10):\n",
    "    for x in range(1,10):\n",
    "        n=(x*2)-1\n",
    "        if x==y:\n",
    "            print(n,end=\"\")\n",
    "        else:\n",
    "            print(\" \",end=\"\")\n",
    "    print()"
   ]
  },
  {
   "cell_type": "markdown",
   "metadata": {},
   "source": [
    "### SOAL 2"
   ]
  },
  {
   "cell_type": "code",
   "execution_count": 11,
   "metadata": {},
   "outputs": [
    {
     "name": "stdout",
     "output_type": "stream",
     "text": [
      "        16\n",
      "       14 \n",
      "      12  \n",
      "     10   \n",
      "    8    \n",
      "   6     \n",
      "  4      \n",
      " 2       \n",
      "0        \n"
     ]
    }
   ],
   "source": [
    "for y in range(1,10):\n",
    "    for x in range(1,10):\n",
    "        n=(x-1)*2\n",
    "        if x==10-y:\n",
    "            print(n,end=\"\")\n",
    "        else:\n",
    "            print(\" \",end=\"\")\n",
    "    print()"
   ]
  },
  {
   "cell_type": "markdown",
   "metadata": {},
   "source": [
    "### SOAL 3"
   ]
  },
  {
   "cell_type": "code",
   "execution_count": 12,
   "metadata": {},
   "outputs": [
    {
     "name": "stdout",
     "output_type": "stream",
     "text": [
      "1       16\n",
      " 3     14 \n",
      "  5   12  \n",
      "   7 10   \n",
      "    9    \n",
      "   6 11   \n",
      "  4   13  \n",
      " 2     15 \n",
      "0       17\n"
     ]
    }
   ],
   "source": [
    "for y in range(1,10):\n",
    "    for x in range(1,10):\n",
    "        n=(x*2)-1\n",
    "        u=(x-1)*2\n",
    "        if x==y:\n",
    "            print(n,end=\"\")\n",
    "        elif x==10-y:\n",
    "            print(u,end=\"\")\n",
    "        else:\n",
    "            print(\" \",end=\"\")\n",
    "    print()"
   ]
  },
  {
   "cell_type": "markdown",
   "metadata": {},
   "source": [
    "### SOAL 4"
   ]
  },
  {
   "cell_type": "code",
   "execution_count": 13,
   "metadata": {},
   "outputs": [
    {
     "name": "stdout",
     "output_type": "stream",
     "text": [
      "1   1   16\n",
      " 3  3  14 \n",
      "  5 5 12  \n",
      "   7710   \n",
      "0246910121416\n",
      "   61111   \n",
      "  4 13 13  \n",
      " 2  15  15 \n",
      "0   17   17\n"
     ]
    }
   ],
   "source": [
    "for y in range(1,10):\n",
    "    for x in range(1,10):\n",
    "        n=(x*2)-1\n",
    "        u=(x-1)*2\n",
    "        a=(y*2)-1\n",
    "        if x==y:\n",
    "            print(n,end=\"\")\n",
    "        elif x==10-y or y==5:\n",
    "            print(u,end=\"\")\n",
    "        elif x==5:\n",
    "            print(a,end=\"\")\n",
    "        else:\n",
    "            print(\" \",end=\"\")\n",
    "    print()"
   ]
  },
  {
   "cell_type": "markdown",
   "metadata": {},
   "source": [
    "### SOAL 5"
   ]
  },
  {
   "cell_type": "code",
   "execution_count": 14,
   "metadata": {},
   "outputs": [
    {
     "name": "stdout",
     "output_type": "stream",
     "text": [
      "1        \n",
      "13       \n",
      "135      \n",
      "1357     \n",
      "13579    \n",
      "1357911   \n",
      "135791113  \n",
      "13579111315 \n",
      "1357911131517\n"
     ]
    }
   ],
   "source": [
    "for y in range(1,10):\n",
    "    for x in range(1,10):\n",
    "        n=(x*2)-1\n",
    "        if x<=y:\n",
    "            print(n,end=\"\")\n",
    "        else:\n",
    "            print(\" \",end=\"\")\n",
    "    print()"
   ]
  },
  {
   "cell_type": "markdown",
   "metadata": {},
   "source": [
    "### SOAL 6"
   ]
  },
  {
   "cell_type": "code",
   "execution_count": 15,
   "metadata": {},
   "outputs": [
    {
     "name": "stdout",
     "output_type": "stream",
     "text": [
      "        16\n",
      "       1414\n",
      "      121212\n",
      "     10101010\n",
      "    88888\n",
      "   666666\n",
      "  4444444\n",
      " 22222222\n",
      "000000000\n"
     ]
    }
   ],
   "source": [
    "for y in range(1,10):\n",
    "    for x in range(1,10):\n",
    "        n=16+(y-1)*(-2)\n",
    "        if x>=10-y:\n",
    "            print(n,end=\"\")\n",
    "        else:\n",
    "            print(\" \",end=\"\")\n",
    "    print()"
   ]
  },
  {
   "cell_type": "markdown",
   "metadata": {},
   "source": [
    "### SOAL 7"
   ]
  },
  {
   "cell_type": "code",
   "execution_count": 16,
   "metadata": {},
   "outputs": [
    {
     "name": "stdout",
     "output_type": "stream",
     "text": [
      "1AAAAAAA16\n",
      " 3AAAAA14 \n",
      "  5AAA12  \n",
      "   7A10   \n",
      "    9    \n",
      "   6B11   \n",
      "  4BBB13  \n",
      " 2BBBBB15 \n",
      "0BBBBBBB17\n"
     ]
    }
   ],
   "source": [
    "for y in range(1,10):\n",
    "    for x in range(1,10):\n",
    "        n=(x*2)-1\n",
    "        u=(x-1)*2\n",
    "        if x==y:\n",
    "            print(n,end=\"\")\n",
    "        elif x==10-y:\n",
    "            print(u,end=\"\")\n",
    "        elif x<y and x>10-y:\n",
    "            print(\"B\",end=\"\")\n",
    "        elif x>y and x<10-y:\n",
    "            print(\"A\",end=\"\")\n",
    "        else:\n",
    "            print(\" \",end=\"\")\n",
    "    print()"
   ]
  },
  {
   "cell_type": "markdown",
   "metadata": {},
   "source": [
    "### SOAL 8"
   ]
  },
  {
   "cell_type": "code",
   "execution_count": 17,
   "metadata": {},
   "outputs": [
    {
     "name": "stdout",
     "output_type": "stream",
     "text": [
      "1       16\n",
      "A3     14B\n",
      "AA5   12BB\n",
      "AAA7 10BBB\n",
      "AAAA9BBBB\n",
      "AAA6 11BBB\n",
      "AA4   13BB\n",
      "A2     15B\n",
      "0       17\n"
     ]
    }
   ],
   "source": [
    "for y in range(1,10):\n",
    "    for x in range(1,10):\n",
    "        n=(x*2)-1\n",
    "        u=(x-1)*2\n",
    "        if x == y:\n",
    "            print(n,end=\"\")\n",
    "        elif x == 10-y:\n",
    "            print(u,end=\"\")\n",
    "        elif x>y and x>10-y:\n",
    "            print(\"B\",end=\"\")\n",
    "        elif x<y and x<10-y:\n",
    "            print(\"A\",end=\"\")\n",
    "        else:\n",
    "            print(\" \",end=\"\")\n",
    "    print()"
   ]
  },
  {
   "cell_type": "markdown",
   "metadata": {},
   "source": [
    "<h1 style=\"color:red\">**LOGIC 3**</h1>"
   ]
  },
  {
   "cell_type": "markdown",
   "metadata": {},
   "source": [
    "### SOAL 1"
   ]
  },
  {
   "cell_type": "code",
   "execution_count": 18,
   "metadata": {},
   "outputs": [
    {
     "name": "stdout",
     "output_type": "stream",
     "text": [
      "1  fibonaci nya adalah  1  \n",
      "2  fibonaci nya adalah  1  \n",
      "3  fibonaci nya adalah  2  \n",
      "4  fibonaci nya adalah  3  \n",
      "5  fibonaci nya adalah  5  \n",
      "6  fibonaci nya adalah  8  \n",
      "7  fibonaci nya adalah  13  \n",
      "8  fibonaci nya adalah  21  \n",
      "9  fibonaci nya adalah  34  \n"
     ]
    }
   ],
   "source": [
    "a,b,c = 1,1,2\n",
    "for i in range(1,10):\n",
    "    print(i, \" fibonaci nya adalah \", a,' ')\n",
    "    c=a+b\n",
    "    a=b\n",
    "    b=c"
   ]
  },
  {
   "cell_type": "markdown",
   "metadata": {},
   "source": [
    "### SOAL 2"
   ]
  },
  {
   "cell_type": "code",
   "execution_count": 19,
   "metadata": {},
   "outputs": [
    {
     "name": "stdout",
     "output_type": "stream",
     "text": [
      "1  1  1  3  5  9  17  31  57  "
     ]
    }
   ],
   "source": [
    "a,b,c,d = 1,1,1,3\n",
    "for i in range(1,10):\n",
    "    print(a,\" \",end=\"\")\n",
    "    d=a+b+c\n",
    "    a=b\n",
    "    b=c\n",
    "    c=d"
   ]
  },
  {
   "cell_type": "markdown",
   "metadata": {},
   "source": [
    "### SOAL 3"
   ]
  },
  {
   "cell_type": "code",
   "execution_count": 20,
   "metadata": {},
   "outputs": [
    {
     "name": "stdout",
     "output_type": "stream",
     "text": [
      "fpb dari 12 dan 10 =\n",
      "2\n",
      "dan kpk nya adalah =\n",
      "60\n"
     ]
    }
   ],
   "source": [
    "def fpb(a,b):\n",
    "    if b == 0:\n",
    "        return a\n",
    "    else:\n",
    "        return fpb(b,a%b)\n",
    "print(\"fpb dari 12 dan 10 =\")\n",
    "print(fpb(12,10))\n",
    "def kpk(a,b):\n",
    "    return a*b // fpb(a,b)\n",
    "print(\"dan kpk nya adalah =\")\n",
    "print(kpk(12,10))"
   ]
  },
  {
   "cell_type": "markdown",
   "metadata": {},
   "source": [
    "## SOAL 4"
   ]
  },
  {
   "cell_type": "code",
   "execution_count": 21,
   "metadata": {},
   "outputs": [
    {
     "name": "stdout",
     "output_type": "stream",
     "text": [
      "1AAAAAAA16\n",
      "D3AAAAA14B\n",
      "DD5AAA12BB\n",
      "DDD7A10BBB\n",
      "DDDD9BBBB\n",
      "DDD6C11BBB\n",
      "DD4CCC13BB\n",
      "D2CCCCC15B\n",
      "0CCCCCCC17\n"
     ]
    }
   ],
   "source": [
    "for y in range(1,10):\n",
    "    for x in range(1,10):\n",
    "        n=(x*2)-1\n",
    "        u=(x-1)*2\n",
    "        if x==y:\n",
    "            print(n,end=\"\")\n",
    "        elif x==10-y:\n",
    "            print(u,end=\"\")\n",
    "        elif x>y and x>10-y:\n",
    "            print(\"B\",end=\"\")\n",
    "        elif x>y and x<10-y:\n",
    "            print(\"A\",end=\"\")\n",
    "        elif x<y and x<10-y:\n",
    "            print(\"D\",end=\"\")\n",
    "        else:\n",
    "            print(\"C\",end=\"\")\n",
    "    print()"
   ]
  },
  {
   "cell_type": "markdown",
   "metadata": {},
   "source": [
    "### SOAL 5"
   ]
  },
  {
   "cell_type": "code",
   "execution_count": 22,
   "metadata": {},
   "outputs": [
    {
     "name": "stdout",
     "output_type": "stream",
     "text": [
      "111111111\n",
      "111111111\n",
      "112222211\n",
      "112333211\n",
      "112353211\n",
      "112333211\n",
      "112222211\n",
      "111111111\n",
      "111111111\n"
     ]
    }
   ],
   "source": [
    "def f(a):\n",
    "    if a <=2:\n",
    "        return 1\n",
    "    else:\n",
    "        return f(a-1)+f(a-2)\n",
    "for y in range(-4,5):\n",
    "    for x in range(-4,5):\n",
    "        ay=5-abs(y)\n",
    "        ax=5-abs(x)\n",
    "        n=ax if ax<ay else ay\n",
    "        print(f(n),end=\"\")\n",
    "    print()"
   ]
  },
  {
   "cell_type": "markdown",
   "metadata": {},
   "source": [
    "### SOAL 6"
   ]
  },
  {
   "cell_type": "code",
   "execution_count": 23,
   "metadata": {},
   "outputs": [
    {
     "name": "stdout",
     "output_type": "stream",
     "text": [
      "111111111\n",
      "1       1\n",
      "1 33333 1\n",
      "1 3   3 1\n",
      "1 3 5 3 1\n",
      "1 3   3 1\n",
      "1 33333 1\n",
      "1       1\n",
      "111111111\n"
     ]
    }
   ],
   "source": [
    "for y in range(-4,5):\n",
    "    for x in range(-4,5):\n",
    "        ay=5-abs(y)\n",
    "        ax=5-abs(x)\n",
    "        n=ax if ax<ay else ay\n",
    "        if n % 2 ==0:\n",
    "            print(\" \",end=\"\")\n",
    "        else:\n",
    "            print(n,end=\"\")\n",
    "    print()"
   ]
  },
  {
   "cell_type": "markdown",
   "metadata": {},
   "source": [
    "### SOAL 7"
   ]
  },
  {
   "cell_type": "code",
   "execution_count": 24,
   "metadata": {},
   "outputs": [
    {
     "name": "stdout",
     "output_type": "stream",
     "text": [
      "111111111\n",
      "1       1\n",
      "1 11111 1\n",
      "1 1   1 1\n",
      "1 1 2 1 1\n",
      "1 1   1 1\n",
      "1 11111 1\n",
      "1       1\n",
      "111111111\n"
     ]
    }
   ],
   "source": [
    "def fi(a):\n",
    "    if a <= 3:\n",
    "        return 1\n",
    "    else:\n",
    "        return fi(a-2)+fi(a-4)\n",
    "for y in range(-4,5):\n",
    "    for x in range(-4,5):\n",
    "        ay=5-abs(y)\n",
    "        ax=5-abs(x)\n",
    "        n=ax if ax<ay else ay\n",
    "        if n%2==0:\n",
    "            print(\" \",end=\"\")\n",
    "        else:\n",
    "            print(fi(n),end=\"\")\n",
    "    print()"
   ]
  },
  {
   "cell_type": "markdown",
   "metadata": {},
   "source": [
    "### SOAL 8"
   ]
  },
  {
   "cell_type": "code",
   "execution_count": 25,
   "metadata": {},
   "outputs": [
    {
     "name": "stdout",
     "output_type": "stream",
     "text": [
      "111111111\n",
      "1AAAAAAA1\n",
      "1A11111A1\n",
      "1A1BBB1A1\n",
      "1A1B2B1A1\n",
      "1A1BBB1A1\n",
      "1A11111A1\n",
      "1AAAAAAA1\n",
      "111111111\n"
     ]
    }
   ],
   "source": [
    "ab=\"AB\"\n",
    "for y in range(-4,5):\n",
    "    for x in range(-4,5):\n",
    "        ay=5-abs(y)\n",
    "        ax=5-abs(x)\n",
    "        n=ax if ax<ay else ay\n",
    "        if n%2==0:\n",
    "            i=n//2-1\n",
    "            print(ab[i],end='')\n",
    "        else:\n",
    "            print(fi(n),end='')\n",
    "    print()"
   ]
  },
  {
   "cell_type": "markdown",
   "metadata": {},
   "source": [
    "### SOAL 9"
   ]
  },
  {
   "cell_type": "markdown",
   "metadata": {},
   "source": [
    "### SOAL 10"
   ]
  },
  {
   "cell_type": "code",
   "execution_count": null,
   "metadata": {},
   "outputs": [],
   "source": []
  },
  {
   "cell_type": "code",
   "execution_count": null,
   "metadata": {},
   "outputs": [],
   "source": []
  },
  {
   "cell_type": "markdown",
   "metadata": {},
   "source": [
    "<h1 style=\"color:red\">**LOGIC 4**</h1>"
   ]
  },
  {
   "cell_type": "markdown",
   "metadata": {},
   "source": [
    "### SOAL 3"
   ]
  },
  {
   "cell_type": "code",
   "execution_count": 26,
   "metadata": {},
   "outputs": [
    {
     "name": "stdout",
     "output_type": "stream",
     "text": [
      "    1\n",
      "   123\n",
      "  12345\n",
      " 1234567\n",
      "123456789\n"
     ]
    }
   ],
   "source": [
    "def crange(a, b):\n",
    "    return range(a, b+1)\n",
    "def println(a):\n",
    "    print(a, end='')\n",
    "def ganjil(a):\n",
    "    return a*2-1\n",
    "\n",
    "for y in crange(1,5):\n",
    "    for s in crange(1,5-y):\n",
    "        println(\" \")\n",
    "    for x in crange(1, ganjil(y)):\n",
    "        println(x)\n",
    "    print()"
   ]
  },
  {
   "cell_type": "markdown",
   "metadata": {},
   "source": [
    "### SOAL 4"
   ]
  },
  {
   "cell_type": "code",
   "execution_count": 27,
   "metadata": {},
   "outputs": [
    {
     "name": "stdout",
     "output_type": "stream",
     "text": [
      "123456789\n",
      " 1234567\n",
      "  12345\n",
      "   123\n",
      "    1\n"
     ]
    }
   ],
   "source": [
    "for y in crange(1,5):\n",
    "    for s in crange(1,ganjil(y)-y):\n",
    "        println(\" \")\n",
    "    for x in crange(1, 9+(y-1)*(-2)):\n",
    "        println(x)\n",
    "    print()"
   ]
  },
  {
   "cell_type": "markdown",
   "metadata": {},
   "source": [
    "### SOAL 5"
   ]
  },
  {
   "cell_type": "code",
   "execution_count": null,
   "metadata": {},
   "outputs": [],
   "source": []
  },
  {
   "cell_type": "markdown",
   "metadata": {},
   "source": [
    "### SOAL 6"
   ]
  },
  {
   "cell_type": "code",
   "execution_count": null,
   "metadata": {},
   "outputs": [],
   "source": []
  },
  {
   "cell_type": "markdown",
   "metadata": {},
   "source": [
    "### SOAL 7"
   ]
  },
  {
   "cell_type": "code",
   "execution_count": null,
   "metadata": {},
   "outputs": [],
   "source": []
  },
  {
   "cell_type": "markdown",
   "metadata": {},
   "source": [
    "### SOAL 8"
   ]
  },
  {
   "cell_type": "code",
   "execution_count": null,
   "metadata": {},
   "outputs": [],
   "source": []
  },
  {
   "cell_type": "markdown",
   "metadata": {},
   "source": [
    "### SOAL 9"
   ]
  },
  {
   "cell_type": "code",
   "execution_count": null,
   "metadata": {},
   "outputs": [],
   "source": []
  },
  {
   "cell_type": "markdown",
   "metadata": {},
   "source": [
    "### SOAL 10"
   ]
  },
  {
   "cell_type": "code",
   "execution_count": null,
   "metadata": {},
   "outputs": [],
   "source": []
  },
  {
   "cell_type": "markdown",
   "metadata": {},
   "source": [
    "<h1 style=\"color:red\">**LOGIC 5**</h1>"
   ]
  },
  {
   "cell_type": "markdown",
   "metadata": {},
   "source": [
    "### SOAL 1"
   ]
  },
  {
   "cell_type": "code",
   "execution_count": null,
   "metadata": {},
   "outputs": [],
   "source": []
  },
  {
   "cell_type": "markdown",
   "metadata": {},
   "source": [
    "### SOAL 2"
   ]
  },
  {
   "cell_type": "code",
   "execution_count": null,
   "metadata": {},
   "outputs": [],
   "source": []
  },
  {
   "cell_type": "markdown",
   "metadata": {},
   "source": [
    "### SOAL 3"
   ]
  },
  {
   "cell_type": "code",
   "execution_count": null,
   "metadata": {},
   "outputs": [],
   "source": []
  },
  {
   "cell_type": "markdown",
   "metadata": {},
   "source": [
    "### SOAL 4"
   ]
  },
  {
   "cell_type": "code",
   "execution_count": null,
   "metadata": {},
   "outputs": [],
   "source": []
  },
  {
   "cell_type": "markdown",
   "metadata": {},
   "source": [
    "### SOAL 5"
   ]
  },
  {
   "cell_type": "code",
   "execution_count": null,
   "metadata": {},
   "outputs": [],
   "source": []
  },
  {
   "cell_type": "markdown",
   "metadata": {},
   "source": [
    "### SOAL 6"
   ]
  },
  {
   "cell_type": "code",
   "execution_count": null,
   "metadata": {},
   "outputs": [],
   "source": []
  },
  {
   "cell_type": "markdown",
   "metadata": {},
   "source": [
    "### SOAL 7"
   ]
  },
  {
   "cell_type": "code",
   "execution_count": null,
   "metadata": {},
   "outputs": [],
   "source": []
  },
  {
   "cell_type": "markdown",
   "metadata": {},
   "source": [
    "### SOAL 9"
   ]
  },
  {
   "cell_type": "code",
   "execution_count": null,
   "metadata": {},
   "outputs": [],
   "source": []
  },
  {
   "cell_type": "markdown",
   "metadata": {},
   "source": [
    "### SOAL 10"
   ]
  },
  {
   "cell_type": "code",
   "execution_count": null,
   "metadata": {},
   "outputs": [],
   "source": []
  }
 ],
 "metadata": {
  "kernelspec": {
   "display_name": "Python 3",
   "language": "python",
   "name": "python3"
  },
  "language_info": {
   "codemirror_mode": {
    "name": "ipython",
    "version": 3
   },
   "file_extension": ".py",
   "mimetype": "text/x-python",
   "name": "python",
   "nbconvert_exporter": "python",
   "pygments_lexer": "ipython3",
   "version": "3.6.4"
  }
 },
 "nbformat": 4,
 "nbformat_minor": 2
}
